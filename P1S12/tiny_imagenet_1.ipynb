{
  "nbformat": 4,
  "nbformat_minor": 0,
  "metadata": {
    "colab": {
      "name": "tiny_imagenet.ipynb",
      "provenance": [],
      "collapsed_sections": []
    },
    "kernelspec": {
      "name": "python3",
      "display_name": "Python 3"
    },
    "accelerator": "GPU"
  },
  "cells": [
    {
      "cell_type": "code",
      "metadata": {
        "id": "w_uuYYMK5E3U",
        "colab_type": "code",
        "colab": {}
      },
      "source": [
        "import os\n",
        "from os.path import join\n",
        "from os import listdir, rmdir\n",
        "import zipfile\n",
        "import requests\n",
        "import io\n",
        "from io import StringIO, BytesIO\n",
        "import glob\n",
        "from shutil import move\n",
        "import random"
      ],
      "execution_count": 0,
      "outputs": []
    },
    {
      "cell_type": "code",
      "metadata": {
        "id": "8EK_ljDC6jbb",
        "colab_type": "code",
        "colab": {}
      },
      "source": [
        "def download_images(url):\n",
        "  if(os.path.isdir(\"tiny-imagenet-200\")):\n",
        "    print(\"Images already downloaded...\")\n",
        "    return\n",
        "  r = requests.get(url, stream=True)\n",
        "  print(\"Downloading \"+url)\n",
        "  zip_ref = zipfile.ZipFile(BytesIO(r.content))\n",
        "  zip_ref.extractall(\"./\")\n",
        "  zip_ref.close()"
      ],
      "execution_count": 0,
      "outputs": []
    },
    {
      "cell_type": "code",
      "metadata": {
        "id": "59HkHOjY7f1H",
        "colab_type": "code",
        "outputId": "31253265-cdb8-4a96-9512-06d53da988a0",
        "colab": {
          "base_uri": "https://localhost:8080/",
          "height": 35
        }
      },
      "source": [
        "download_images(\"http://cs231n.stanford.edu/tiny-imagenet-200.zip\")"
      ],
      "execution_count": 3,
      "outputs": [
        {
          "output_type": "stream",
          "text": [
            "Downloading http://cs231n.stanford.edu/tiny-imagenet-200.zip\n"
          ],
          "name": "stdout"
        }
      ]
    },
    {
      "cell_type": "code",
      "metadata": {
        "id": "1KH1-A_AgNih",
        "colab_type": "code",
        "colab": {}
      },
      "source": [
        "import io\n",
        "import glob\n",
        "import os\n",
        "from shutil import move\n",
        "from os.path import join\n",
        "from os import listdir, rmdir\n",
        "\n",
        "target_folder = './tiny-imagenet-200/val/'\n",
        "dest_folder   = './tiny-imagenet-200/train/'\n",
        "\n",
        "val_dict = {}\n",
        "with open('./tiny-imagenet-200/val/val_annotations.txt', 'r') as f:\n",
        "    for line in f.readlines():\n",
        "        split_line = line.split('\\t')\n",
        "        val_dict[split_line[0]] = split_line[1]\n",
        "        \n",
        "paths = glob.glob('./tiny-imagenet-200/val/images/*')        \n",
        "        \n",
        "for path in paths:\n",
        "    file = path.split('/')[-1]\n",
        "    folder = val_dict[file]\n",
        "    dest = dest_folder + str(folder) + '/images/' + str(file)\n",
        "    move(path, dest)\n",
        "    \n",
        "rmdir('./tiny-imagenet-200/val/images')"
      ],
      "execution_count": 0,
      "outputs": []
    },
    {
      "cell_type": "code",
      "metadata": {
        "id": "w_EpwVY4vnY2",
        "colab_type": "code",
        "colab": {}
      },
      "source": [
        "target_folder = './tiny-imagenet-200/train/'\n",
        "train_folder = './tiny-imagenet-200/train_set/'\n",
        "test_folder = './tiny-imagenet-200/test_set/'\n",
        "\n",
        "os.mkdir(train_folder)\n",
        "os.mkdir(test_folder)\n",
        "\n",
        "paths = glob.glob('./tiny-imagenet-200/train/*')\n",
        "\n",
        "for path in paths:\n",
        "    folder = path.split('/')[-1].split('\\\\')[-1]\n",
        "    source = target_folder+str(folder+'/images/')\n",
        "    train_dest = train_folder+str(folder+'/')\n",
        "    test_dest = test_folder+str(folder+'/')\n",
        "    os.mkdir(train_dest)\n",
        "    os.mkdir(test_dest)\n",
        "    images = glob.glob(source+str('*'))\n",
        "    \n",
        "    #making random\n",
        "    random.shuffle(images)\n",
        "    \n",
        "    test_imgs = images[:165].copy()\n",
        "    train_imgs = images[165:].copy()\n",
        "    \n",
        "    #moving 30% for validation\n",
        "    for image in test_imgs:\n",
        "        file = image.split('/')[-1].split('\\\\')[-1]\n",
        "        dest = test_dest+str(file)\n",
        "        move(image, dest)\n",
        "        \n",
        "    #moving 70% for training\n",
        "    for image in train_imgs:\n",
        "        file = image.split('/')[-1].split('\\\\')[-1]\n",
        "        dest = train_dest+str(file)\n",
        "        move(image, dest)"
      ],
      "execution_count": 0,
      "outputs": []
    },
    {
      "cell_type": "code",
      "metadata": {
        "id": "1i5SX_lkwg85",
        "colab_type": "code",
        "colab": {}
      },
      "source": [
        "!pip install albumentations==0.4.5"
      ],
      "execution_count": 0,
      "outputs": []
    },
    {
      "cell_type": "code",
      "metadata": {
        "id": "0_KsO29Cvtn4",
        "colab_type": "code",
        "colab": {}
      },
      "source": [
        "from data_loader_tinyimagenet import tiny_imagenet\n",
        "from resnet import ResNet, BasicBlock\n",
        "from utils import model_summary, plot_logs\n",
        "from train import train_model\n",
        "from torch import nn\n",
        "import torch.optim as optim\n",
        "import torch"
      ],
      "execution_count": 0,
      "outputs": []
    },
    {
      "cell_type": "code",
      "metadata": {
        "id": "mAl9cctXwvZN",
        "colab_type": "code",
        "colab": {}
      },
      "source": [
        "def ResNet18():\n",
        "    return ResNet(BasicBlock, [2, 2, 2, 2], 200)"
      ],
      "execution_count": 0,
      "outputs": []
    },
    {
      "cell_type": "code",
      "metadata": {
        "id": "QdwODSmXwwK7",
        "colab_type": "code",
        "outputId": "f23c924a-ddba-4f34-b858-b9636c56ba75",
        "colab": {
          "base_uri": "https://localhost:8080/",
          "height": 35
        }
      },
      "source": [
        "trainloader, testloader = tiny_imagenet()"
      ],
      "execution_count": 9,
      "outputs": [
        {
          "output_type": "stream",
          "text": [
            "CUDA Available? True\n"
          ],
          "name": "stdout"
        }
      ]
    },
    {
      "cell_type": "code",
      "metadata": {
        "id": "lLost8ckxYdS",
        "colab_type": "code",
        "colab": {}
      },
      "source": [
        "net = ResNet18()"
      ],
      "execution_count": 0,
      "outputs": []
    },
    {
      "cell_type": "code",
      "metadata": {
        "id": "wL3fy_K9xbAm",
        "colab_type": "code",
        "outputId": "310f1193-7dbb-437d-f37a-46c820c78cbc",
        "colab": {
          "base_uri": "https://localhost:8080/",
          "height": 1000
        }
      },
      "source": [
        "device = model_summary(net, (3, 64, 64))"
      ],
      "execution_count": 11,
      "outputs": [
        {
          "output_type": "stream",
          "text": [
            "----------------------------------------------------------------\n",
            "        Layer (type)               Output Shape         Param #\n",
            "================================================================\n",
            "            Conv2d-1           [-1, 64, 64, 64]           1,728\n",
            "       BatchNorm2d-2           [-1, 64, 64, 64]             128\n",
            "            Conv2d-3           [-1, 64, 64, 64]          36,864\n",
            "       BatchNorm2d-4           [-1, 64, 64, 64]             128\n",
            "            Conv2d-5           [-1, 64, 64, 64]          36,864\n",
            "       BatchNorm2d-6           [-1, 64, 64, 64]             128\n",
            "        BasicBlock-7           [-1, 64, 64, 64]               0\n",
            "            Conv2d-8           [-1, 64, 64, 64]          36,864\n",
            "       BatchNorm2d-9           [-1, 64, 64, 64]             128\n",
            "           Conv2d-10           [-1, 64, 64, 64]          36,864\n",
            "      BatchNorm2d-11           [-1, 64, 64, 64]             128\n",
            "       BasicBlock-12           [-1, 64, 64, 64]               0\n",
            "           Conv2d-13          [-1, 128, 32, 32]          73,728\n",
            "      BatchNorm2d-14          [-1, 128, 32, 32]             256\n",
            "           Conv2d-15          [-1, 128, 32, 32]         147,456\n",
            "      BatchNorm2d-16          [-1, 128, 32, 32]             256\n",
            "           Conv2d-17          [-1, 128, 32, 32]           8,192\n",
            "      BatchNorm2d-18          [-1, 128, 32, 32]             256\n",
            "       BasicBlock-19          [-1, 128, 32, 32]               0\n",
            "           Conv2d-20          [-1, 128, 32, 32]         147,456\n",
            "      BatchNorm2d-21          [-1, 128, 32, 32]             256\n",
            "           Conv2d-22          [-1, 128, 32, 32]         147,456\n",
            "      BatchNorm2d-23          [-1, 128, 32, 32]             256\n",
            "       BasicBlock-24          [-1, 128, 32, 32]               0\n",
            "           Conv2d-25          [-1, 256, 16, 16]         294,912\n",
            "      BatchNorm2d-26          [-1, 256, 16, 16]             512\n",
            "           Conv2d-27          [-1, 256, 16, 16]         589,824\n",
            "      BatchNorm2d-28          [-1, 256, 16, 16]             512\n",
            "           Conv2d-29          [-1, 256, 16, 16]          32,768\n",
            "      BatchNorm2d-30          [-1, 256, 16, 16]             512\n",
            "       BasicBlock-31          [-1, 256, 16, 16]               0\n",
            "           Conv2d-32          [-1, 256, 16, 16]         589,824\n",
            "      BatchNorm2d-33          [-1, 256, 16, 16]             512\n",
            "           Conv2d-34          [-1, 256, 16, 16]         589,824\n",
            "      BatchNorm2d-35          [-1, 256, 16, 16]             512\n",
            "       BasicBlock-36          [-1, 256, 16, 16]               0\n",
            "           Conv2d-37            [-1, 512, 8, 8]       1,179,648\n",
            "      BatchNorm2d-38            [-1, 512, 8, 8]           1,024\n",
            "           Conv2d-39            [-1, 512, 8, 8]       2,359,296\n",
            "      BatchNorm2d-40            [-1, 512, 8, 8]           1,024\n",
            "           Conv2d-41            [-1, 512, 8, 8]         131,072\n",
            "      BatchNorm2d-42            [-1, 512, 8, 8]           1,024\n",
            "       BasicBlock-43            [-1, 512, 8, 8]               0\n",
            "           Conv2d-44            [-1, 512, 8, 8]       2,359,296\n",
            "      BatchNorm2d-45            [-1, 512, 8, 8]           1,024\n",
            "           Conv2d-46            [-1, 512, 8, 8]       2,359,296\n",
            "      BatchNorm2d-47            [-1, 512, 8, 8]           1,024\n",
            "       BasicBlock-48            [-1, 512, 8, 8]               0\n",
            "           Linear-49                  [-1, 200]         102,600\n",
            "================================================================\n",
            "Total params: 11,271,432\n",
            "Trainable params: 11,271,432\n",
            "Non-trainable params: 0\n",
            "----------------------------------------------------------------\n",
            "Input size (MB): 0.05\n",
            "Forward/backward pass size (MB): 45.00\n",
            "Params size (MB): 43.00\n",
            "Estimated Total Size (MB): 88.05\n",
            "----------------------------------------------------------------\n",
            "None\n"
          ],
          "name": "stdout"
        }
      ]
    },
    {
      "cell_type": "code",
      "metadata": {
        "id": "y_rFI4iaxfDp",
        "colab_type": "code",
        "outputId": "58d54585-ffa3-4209-aa71-1500270a2c60",
        "colab": {
          "base_uri": "https://localhost:8080/",
          "height": 1000
        }
      },
      "source": [
        "trainer = train_model(trainloader, testloader, device)\n",
        "logs, misclassified_images = trainer.run_model(net, lr=0.1, epochs=50, patience=5, sch=True)"
      ],
      "execution_count": 12,
      "outputs": [
        {
          "output_type": "stream",
          "text": [
            "\r  0%|          | 0/151 [00:00<?, ?it/s]"
          ],
          "name": "stderr"
        },
        {
          "output_type": "stream",
          "text": [
            "EPOCH: 1\n"
          ],
          "name": "stdout"
        },
        {
          "output_type": "stream",
          "text": [
            "Loss=4.584553241729736 Batch_id=150 Accuracy=4.63: 100%|██████████| 151/151 [02:12<00:00,  1.14it/s]\n",
            "  0%|          | 0/151 [00:00<?, ?it/s]"
          ],
          "name": "stderr"
        },
        {
          "output_type": "stream",
          "text": [
            "\n",
            "Test set: Average loss: 4.9862, Accuracy: 1447/33000 (4.38%)\n",
            "\n",
            "EPOCH: 2\n"
          ],
          "name": "stdout"
        },
        {
          "output_type": "stream",
          "text": [
            "Loss=4.051141738891602 Batch_id=150 Accuracy=9.67: 100%|██████████| 151/151 [02:11<00:00,  1.15it/s]\n",
            "  0%|          | 0/151 [00:00<?, ?it/s]"
          ],
          "name": "stderr"
        },
        {
          "output_type": "stream",
          "text": [
            "\n",
            "Test set: Average loss: 4.7282, Accuracy: 2426/33000 (7.35%)\n",
            "\n",
            "EPOCH: 3\n"
          ],
          "name": "stdout"
        },
        {
          "output_type": "stream",
          "text": [
            "Loss=3.8934366703033447 Batch_id=150 Accuracy=14.52: 100%|██████████| 151/151 [02:11<00:00,  1.15it/s]\n",
            "  0%|          | 0/151 [00:00<?, ?it/s]"
          ],
          "name": "stderr"
        },
        {
          "output_type": "stream",
          "text": [
            "\n",
            "Test set: Average loss: 3.7825, Accuracy: 5608/33000 (16.99%)\n",
            "\n",
            "EPOCH: 4\n"
          ],
          "name": "stdout"
        },
        {
          "output_type": "stream",
          "text": [
            "Loss=3.6351099014282227 Batch_id=150 Accuracy=18.68: 100%|██████████| 151/151 [02:11<00:00,  1.14it/s]\n",
            "  0%|          | 0/151 [00:00<?, ?it/s]"
          ],
          "name": "stderr"
        },
        {
          "output_type": "stream",
          "text": [
            "\n",
            "Test set: Average loss: 3.7221, Accuracy: 6249/33000 (18.94%)\n",
            "\n",
            "EPOCH: 5\n"
          ],
          "name": "stdout"
        },
        {
          "output_type": "stream",
          "text": [
            "Loss=3.3329803943634033 Batch_id=150 Accuracy=22.60: 100%|██████████| 151/151 [02:11<00:00,  1.15it/s]\n",
            "  0%|          | 0/151 [00:00<?, ?it/s]"
          ],
          "name": "stderr"
        },
        {
          "output_type": "stream",
          "text": [
            "\n",
            "Test set: Average loss: 3.4651, Accuracy: 7465/33000 (22.62%)\n",
            "\n",
            "EPOCH: 6\n"
          ],
          "name": "stdout"
        },
        {
          "output_type": "stream",
          "text": [
            "Loss=3.1120450496673584 Batch_id=150 Accuracy=26.46: 100%|██████████| 151/151 [02:11<00:00,  1.15it/s]\n",
            "  0%|          | 0/151 [00:00<?, ?it/s]"
          ],
          "name": "stderr"
        },
        {
          "output_type": "stream",
          "text": [
            "\n",
            "Test set: Average loss: 3.1225, Accuracy: 9281/33000 (28.12%)\n",
            "\n",
            "EPOCH: 7\n"
          ],
          "name": "stdout"
        },
        {
          "output_type": "stream",
          "text": [
            "Loss=2.901919364929199 Batch_id=150 Accuracy=29.52: 100%|██████████| 151/151 [02:11<00:00,  1.15it/s]\n",
            "  0%|          | 0/151 [00:00<?, ?it/s]"
          ],
          "name": "stderr"
        },
        {
          "output_type": "stream",
          "text": [
            "\n",
            "Test set: Average loss: 3.1532, Accuracy: 9238/33000 (27.99%)\n",
            "\n",
            "EPOCH: 8\n"
          ],
          "name": "stdout"
        },
        {
          "output_type": "stream",
          "text": [
            "Loss=2.7313544750213623 Batch_id=150 Accuracy=32.72: 100%|██████████| 151/151 [02:11<00:00,  1.15it/s]\n",
            "  0%|          | 0/151 [00:00<?, ?it/s]"
          ],
          "name": "stderr"
        },
        {
          "output_type": "stream",
          "text": [
            "\n",
            "Test set: Average loss: 2.7945, Accuracy: 11409/33000 (34.57%)\n",
            "\n",
            "EPOCH: 9\n"
          ],
          "name": "stdout"
        },
        {
          "output_type": "stream",
          "text": [
            "Loss=2.7022664546966553 Batch_id=150 Accuracy=35.37: 100%|██████████| 151/151 [02:11<00:00,  1.15it/s]\n",
            "  0%|          | 0/151 [00:00<?, ?it/s]"
          ],
          "name": "stderr"
        },
        {
          "output_type": "stream",
          "text": [
            "\n",
            "Test set: Average loss: 2.6407, Accuracy: 12275/33000 (37.20%)\n",
            "\n",
            "EPOCH: 10\n"
          ],
          "name": "stdout"
        },
        {
          "output_type": "stream",
          "text": [
            "Loss=2.550708770751953 Batch_id=150 Accuracy=38.09: 100%|██████████| 151/151 [02:11<00:00,  1.15it/s]\n",
            "  0%|          | 0/151 [00:00<?, ?it/s]"
          ],
          "name": "stderr"
        },
        {
          "output_type": "stream",
          "text": [
            "\n",
            "Test set: Average loss: 2.6962, Accuracy: 11895/33000 (36.05%)\n",
            "\n",
            "EPOCH: 11\n"
          ],
          "name": "stdout"
        },
        {
          "output_type": "stream",
          "text": [
            "Loss=2.4763474464416504 Batch_id=150 Accuracy=40.49: 100%|██████████| 151/151 [02:12<00:00,  1.14it/s]\n",
            "  0%|          | 0/151 [00:00<?, ?it/s]"
          ],
          "name": "stderr"
        },
        {
          "output_type": "stream",
          "text": [
            "\n",
            "Test set: Average loss: 2.4869, Accuracy: 13313/33000 (40.34%)\n",
            "\n",
            "EPOCH: 12\n"
          ],
          "name": "stdout"
        },
        {
          "output_type": "stream",
          "text": [
            "Loss=2.5388400554656982 Batch_id=150 Accuracy=42.49: 100%|██████████| 151/151 [02:11<00:00,  1.15it/s]\n",
            "  0%|          | 0/151 [00:00<?, ?it/s]"
          ],
          "name": "stderr"
        },
        {
          "output_type": "stream",
          "text": [
            "\n",
            "Test set: Average loss: 2.6235, Accuracy: 12442/33000 (37.70%)\n",
            "\n",
            "EPOCH: 13\n"
          ],
          "name": "stdout"
        },
        {
          "output_type": "stream",
          "text": [
            "Loss=2.2220728397369385 Batch_id=150 Accuracy=44.57: 100%|██████████| 151/151 [02:11<00:00,  1.14it/s]\n",
            "  0%|          | 0/151 [00:00<?, ?it/s]"
          ],
          "name": "stderr"
        },
        {
          "output_type": "stream",
          "text": [
            "\n",
            "Test set: Average loss: 2.4628, Accuracy: 13569/33000 (41.12%)\n",
            "\n",
            "EPOCH: 14\n"
          ],
          "name": "stdout"
        },
        {
          "output_type": "stream",
          "text": [
            "Loss=2.350214958190918 Batch_id=150 Accuracy=46.32: 100%|██████████| 151/151 [02:11<00:00,  1.14it/s]\n",
            "  0%|          | 0/151 [00:00<?, ?it/s]"
          ],
          "name": "stderr"
        },
        {
          "output_type": "stream",
          "text": [
            "\n",
            "Test set: Average loss: 2.5240, Accuracy: 13514/33000 (40.95%)\n",
            "\n",
            "EPOCH: 15\n"
          ],
          "name": "stdout"
        },
        {
          "output_type": "stream",
          "text": [
            "Loss=1.9312297105789185 Batch_id=150 Accuracy=48.05: 100%|██████████| 151/151 [02:12<00:00,  1.14it/s]\n",
            "  0%|          | 0/151 [00:00<?, ?it/s]"
          ],
          "name": "stderr"
        },
        {
          "output_type": "stream",
          "text": [
            "\n",
            "Test set: Average loss: 2.3808, Accuracy: 14320/33000 (43.39%)\n",
            "\n",
            "EPOCH: 16\n"
          ],
          "name": "stdout"
        },
        {
          "output_type": "stream",
          "text": [
            "Loss=2.1060049533843994 Batch_id=150 Accuracy=49.83: 100%|██████████| 151/151 [02:11<00:00,  1.14it/s]\n",
            "  0%|          | 0/151 [00:00<?, ?it/s]"
          ],
          "name": "stderr"
        },
        {
          "output_type": "stream",
          "text": [
            "\n",
            "Test set: Average loss: 2.3143, Accuracy: 14810/33000 (44.88%)\n",
            "\n",
            "EPOCH: 17\n"
          ],
          "name": "stdout"
        },
        {
          "output_type": "stream",
          "text": [
            "Loss=2.0039403438568115 Batch_id=150 Accuracy=51.18: 100%|██████████| 151/151 [02:11<00:00,  1.14it/s]\n",
            "  0%|          | 0/151 [00:00<?, ?it/s]"
          ],
          "name": "stderr"
        },
        {
          "output_type": "stream",
          "text": [
            "\n",
            "Test set: Average loss: 2.3673, Accuracy: 14710/33000 (44.58%)\n",
            "\n",
            "EPOCH: 18\n"
          ],
          "name": "stdout"
        },
        {
          "output_type": "stream",
          "text": [
            "Loss=1.7721065282821655 Batch_id=150 Accuracy=53.20: 100%|██████████| 151/151 [02:11<00:00,  1.15it/s]\n",
            "  0%|          | 0/151 [00:00<?, ?it/s]"
          ],
          "name": "stderr"
        },
        {
          "output_type": "stream",
          "text": [
            "\n",
            "Test set: Average loss: 2.3663, Accuracy: 14884/33000 (45.10%)\n",
            "\n",
            "EPOCH: 19\n"
          ],
          "name": "stdout"
        },
        {
          "output_type": "stream",
          "text": [
            "Loss=2.0326058864593506 Batch_id=150 Accuracy=54.27: 100%|██████████| 151/151 [02:12<00:00,  1.14it/s]\n",
            "  0%|          | 0/151 [00:00<?, ?it/s]"
          ],
          "name": "stderr"
        },
        {
          "output_type": "stream",
          "text": [
            "\n",
            "Test set: Average loss: 2.2493, Accuracy: 15316/33000 (46.41%)\n",
            "\n",
            "EPOCH: 20\n"
          ],
          "name": "stdout"
        },
        {
          "output_type": "stream",
          "text": [
            "Loss=1.8978976011276245 Batch_id=150 Accuracy=55.68: 100%|██████████| 151/151 [02:11<00:00,  1.15it/s]\n",
            "  0%|          | 0/151 [00:00<?, ?it/s]"
          ],
          "name": "stderr"
        },
        {
          "output_type": "stream",
          "text": [
            "\n",
            "Test set: Average loss: 2.1767, Accuracy: 16018/33000 (48.54%)\n",
            "\n",
            "EPOCH: 21\n"
          ],
          "name": "stdout"
        },
        {
          "output_type": "stream",
          "text": [
            "Loss=2.0739481449127197 Batch_id=150 Accuracy=57.25: 100%|██████████| 151/151 [02:11<00:00,  1.14it/s]\n",
            "  0%|          | 0/151 [00:00<?, ?it/s]"
          ],
          "name": "stderr"
        },
        {
          "output_type": "stream",
          "text": [
            "\n",
            "Test set: Average loss: 2.2463, Accuracy: 15703/33000 (47.58%)\n",
            "\n",
            "EPOCH: 22\n"
          ],
          "name": "stdout"
        },
        {
          "output_type": "stream",
          "text": [
            "Loss=1.5653880834579468 Batch_id=150 Accuracy=58.30: 100%|██████████| 151/151 [02:11<00:00,  1.14it/s]\n",
            "  0%|          | 0/151 [00:00<?, ?it/s]"
          ],
          "name": "stderr"
        },
        {
          "output_type": "stream",
          "text": [
            "\n",
            "Test set: Average loss: 2.1409, Accuracy: 16466/33000 (49.90%)\n",
            "\n",
            "EPOCH: 23\n"
          ],
          "name": "stdout"
        },
        {
          "output_type": "stream",
          "text": [
            "Loss=1.7570332288742065 Batch_id=150 Accuracy=59.82: 100%|██████████| 151/151 [02:11<00:00,  1.15it/s]\n",
            "  0%|          | 0/151 [00:00<?, ?it/s]"
          ],
          "name": "stderr"
        },
        {
          "output_type": "stream",
          "text": [
            "\n",
            "Test set: Average loss: 2.1797, Accuracy: 16263/33000 (49.28%)\n",
            "\n",
            "EPOCH: 24\n"
          ],
          "name": "stdout"
        },
        {
          "output_type": "stream",
          "text": [
            "Loss=1.6784260272979736 Batch_id=150 Accuracy=61.32: 100%|██████████| 151/151 [02:11<00:00,  1.15it/s]\n",
            "  0%|          | 0/151 [00:00<?, ?it/s]"
          ],
          "name": "stderr"
        },
        {
          "output_type": "stream",
          "text": [
            "\n",
            "Test set: Average loss: 2.1657, Accuracy: 16507/33000 (50.02%)\n",
            "\n",
            "EPOCH: 25\n"
          ],
          "name": "stdout"
        },
        {
          "output_type": "stream",
          "text": [
            "Loss=1.4484105110168457 Batch_id=150 Accuracy=62.64: 100%|██████████| 151/151 [02:12<00:00,  1.14it/s]\n",
            "  0%|          | 0/151 [00:00<?, ?it/s]"
          ],
          "name": "stderr"
        },
        {
          "output_type": "stream",
          "text": [
            "\n",
            "Test set: Average loss: 2.1940, Accuracy: 16411/33000 (49.73%)\n",
            "\n",
            "EPOCH: 26\n"
          ],
          "name": "stdout"
        },
        {
          "output_type": "stream",
          "text": [
            "Loss=1.6221832036972046 Batch_id=150 Accuracy=64.04: 100%|██████████| 151/151 [02:11<00:00,  1.14it/s]\n",
            "  0%|          | 0/151 [00:00<?, ?it/s]"
          ],
          "name": "stderr"
        },
        {
          "output_type": "stream",
          "text": [
            "\n",
            "Test set: Average loss: 2.3378, Accuracy: 16012/33000 (48.52%)\n",
            "\n",
            "EPOCH: 27\n"
          ],
          "name": "stdout"
        },
        {
          "output_type": "stream",
          "text": [
            "Loss=1.458054542541504 Batch_id=150 Accuracy=64.89: 100%|██████████| 151/151 [02:11<00:00,  1.14it/s]\n",
            "  0%|          | 0/151 [00:00<?, ?it/s]"
          ],
          "name": "stderr"
        },
        {
          "output_type": "stream",
          "text": [
            "\n",
            "Test set: Average loss: 2.1952, Accuracy: 16747/33000 (50.75%)\n",
            "\n",
            "EPOCH: 28\n"
          ],
          "name": "stdout"
        },
        {
          "output_type": "stream",
          "text": [
            "Loss=1.2283707857131958 Batch_id=150 Accuracy=66.44: 100%|██████████| 151/151 [02:11<00:00,  1.15it/s]\n",
            "  0%|          | 0/151 [00:00<?, ?it/s]"
          ],
          "name": "stderr"
        },
        {
          "output_type": "stream",
          "text": [
            "\n",
            "Test set: Average loss: 2.1573, Accuracy: 16853/33000 (51.07%)\n",
            "\n",
            "EPOCH: 29\n"
          ],
          "name": "stdout"
        },
        {
          "output_type": "stream",
          "text": [
            "Loss=0.7541505694389343 Batch_id=150 Accuracy=74.75: 100%|██████████| 151/151 [02:11<00:00,  1.14it/s]\n",
            "  0%|          | 0/151 [00:00<?, ?it/s]"
          ],
          "name": "stderr"
        },
        {
          "output_type": "stream",
          "text": [
            "\n",
            "Test set: Average loss: 1.8597, Accuracy: 18801/33000 (56.97%)\n",
            "\n",
            "EPOCH: 30\n"
          ],
          "name": "stdout"
        },
        {
          "output_type": "stream",
          "text": [
            "Loss=0.7238065600395203 Batch_id=150 Accuracy=77.57: 100%|██████████| 151/151 [02:11<00:00,  1.14it/s]\n",
            "  0%|          | 0/151 [00:00<?, ?it/s]"
          ],
          "name": "stderr"
        },
        {
          "output_type": "stream",
          "text": [
            "\n",
            "Test set: Average loss: 1.8533, Accuracy: 18811/33000 (57.00%)\n",
            "\n",
            "EPOCH: 31\n"
          ],
          "name": "stdout"
        },
        {
          "output_type": "stream",
          "text": [
            "Loss=0.897736132144928 Batch_id=150 Accuracy=78.50: 100%|██████████| 151/151 [02:11<00:00,  1.15it/s]\n",
            "  0%|          | 0/151 [00:00<?, ?it/s]"
          ],
          "name": "stderr"
        },
        {
          "output_type": "stream",
          "text": [
            "\n",
            "Test set: Average loss: 1.8557, Accuracy: 18850/33000 (57.12%)\n",
            "\n",
            "EPOCH: 32\n"
          ],
          "name": "stdout"
        },
        {
          "output_type": "stream",
          "text": [
            "Loss=0.7402524352073669 Batch_id=150 Accuracy=78.99: 100%|██████████| 151/151 [02:11<00:00,  1.14it/s]\n",
            "  0%|          | 0/151 [00:00<?, ?it/s]"
          ],
          "name": "stderr"
        },
        {
          "output_type": "stream",
          "text": [
            "\n",
            "Test set: Average loss: 1.8651, Accuracy: 18896/33000 (57.26%)\n",
            "\n",
            "EPOCH: 33\n"
          ],
          "name": "stdout"
        },
        {
          "output_type": "stream",
          "text": [
            "Loss=0.7890110015869141 Batch_id=150 Accuracy=79.83: 100%|██████████| 151/151 [02:11<00:00,  1.15it/s]\n",
            "  0%|          | 0/151 [00:00<?, ?it/s]"
          ],
          "name": "stderr"
        },
        {
          "output_type": "stream",
          "text": [
            "\n",
            "Test set: Average loss: 1.8646, Accuracy: 18972/33000 (57.49%)\n",
            "\n",
            "EPOCH: 34\n"
          ],
          "name": "stdout"
        },
        {
          "output_type": "stream",
          "text": [
            "Loss=0.8107556104660034 Batch_id=150 Accuracy=80.15: 100%|██████████| 151/151 [02:11<00:00,  1.15it/s]\n",
            "  0%|          | 0/151 [00:00<?, ?it/s]"
          ],
          "name": "stderr"
        },
        {
          "output_type": "stream",
          "text": [
            "\n",
            "Test set: Average loss: 1.8796, Accuracy: 18862/33000 (57.16%)\n",
            "\n",
            "EPOCH: 35\n"
          ],
          "name": "stdout"
        },
        {
          "output_type": "stream",
          "text": [
            "Loss=0.7052768468856812 Batch_id=150 Accuracy=80.49: 100%|██████████| 151/151 [02:11<00:00,  1.14it/s]\n",
            "  0%|          | 0/151 [00:00<?, ?it/s]"
          ],
          "name": "stderr"
        },
        {
          "output_type": "stream",
          "text": [
            "\n",
            "Test set: Average loss: 1.8815, Accuracy: 18888/33000 (57.24%)\n",
            "\n",
            "EPOCH: 36\n"
          ],
          "name": "stdout"
        },
        {
          "output_type": "stream",
          "text": [
            "Loss=0.7085680365562439 Batch_id=150 Accuracy=81.02: 100%|██████████| 151/151 [02:11<00:00,  1.14it/s]\n",
            "  0%|          | 0/151 [00:00<?, ?it/s]"
          ],
          "name": "stderr"
        },
        {
          "output_type": "stream",
          "text": [
            "\n",
            "Test set: Average loss: 1.8919, Accuracy: 18849/33000 (57.12%)\n",
            "\n",
            "EPOCH: 37\n"
          ],
          "name": "stdout"
        },
        {
          "output_type": "stream",
          "text": [
            "Loss=0.8551689982414246 Batch_id=150 Accuracy=81.90: 100%|██████████| 151/151 [02:12<00:00,  1.14it/s]\n",
            "  0%|          | 0/151 [00:00<?, ?it/s]"
          ],
          "name": "stderr"
        },
        {
          "output_type": "stream",
          "text": [
            "\n",
            "Test set: Average loss: 1.8817, Accuracy: 18924/33000 (57.35%)\n",
            "\n",
            "EPOCH: 38\n"
          ],
          "name": "stdout"
        },
        {
          "output_type": "stream",
          "text": [
            "Loss=0.6936367750167847 Batch_id=150 Accuracy=82.15: 100%|██████████| 151/151 [02:11<00:00,  1.14it/s]\n",
            "  0%|          | 0/151 [00:00<?, ?it/s]"
          ],
          "name": "stderr"
        },
        {
          "output_type": "stream",
          "text": [
            "\n",
            "Test set: Average loss: 1.8806, Accuracy: 18929/33000 (57.36%)\n",
            "\n",
            "EPOCH: 39\n"
          ],
          "name": "stdout"
        },
        {
          "output_type": "stream",
          "text": [
            "Loss=0.7218562364578247 Batch_id=150 Accuracy=82.19: 100%|██████████| 151/151 [02:11<00:00,  1.14it/s]\n",
            "  0%|          | 0/151 [00:00<?, ?it/s]"
          ],
          "name": "stderr"
        },
        {
          "output_type": "stream",
          "text": [
            "\n",
            "Test set: Average loss: 1.8813, Accuracy: 18921/33000 (57.34%)\n",
            "\n",
            "EPOCH: 40\n"
          ],
          "name": "stdout"
        },
        {
          "output_type": "stream",
          "text": [
            "Loss=0.6982181668281555 Batch_id=150 Accuracy=82.41: 100%|██████████| 151/151 [02:11<00:00,  1.15it/s]\n",
            "  0%|          | 0/151 [00:00<?, ?it/s]"
          ],
          "name": "stderr"
        },
        {
          "output_type": "stream",
          "text": [
            "\n",
            "Test set: Average loss: 1.8811, Accuracy: 18907/33000 (57.29%)\n",
            "\n",
            "EPOCH: 41\n"
          ],
          "name": "stdout"
        },
        {
          "output_type": "stream",
          "text": [
            "Loss=0.5552446842193604 Batch_id=150 Accuracy=82.57: 100%|██████████| 151/151 [02:12<00:00,  1.14it/s]\n",
            "  0%|          | 0/151 [00:00<?, ?it/s]"
          ],
          "name": "stderr"
        },
        {
          "output_type": "stream",
          "text": [
            "\n",
            "Test set: Average loss: 1.8812, Accuracy: 18914/33000 (57.32%)\n",
            "\n",
            "EPOCH: 42\n"
          ],
          "name": "stdout"
        },
        {
          "output_type": "stream",
          "text": [
            "Loss=0.5953073501586914 Batch_id=150 Accuracy=82.49: 100%|██████████| 151/151 [02:11<00:00,  1.15it/s]\n",
            "  0%|          | 0/151 [00:00<?, ?it/s]"
          ],
          "name": "stderr"
        },
        {
          "output_type": "stream",
          "text": [
            "\n",
            "Test set: Average loss: 1.8815, Accuracy: 18926/33000 (57.35%)\n",
            "\n",
            "EPOCH: 43\n"
          ],
          "name": "stdout"
        },
        {
          "output_type": "stream",
          "text": [
            "Loss=0.6604791283607483 Batch_id=150 Accuracy=82.47: 100%|██████████| 151/151 [02:11<00:00,  1.14it/s]\n",
            "  0%|          | 0/151 [00:00<?, ?it/s]"
          ],
          "name": "stderr"
        },
        {
          "output_type": "stream",
          "text": [
            "\n",
            "Test set: Average loss: 1.8827, Accuracy: 18923/33000 (57.34%)\n",
            "\n",
            "EPOCH: 44\n"
          ],
          "name": "stdout"
        },
        {
          "output_type": "stream",
          "text": [
            "Loss=0.6109334826469421 Batch_id=150 Accuracy=82.64: 100%|██████████| 151/151 [02:11<00:00,  1.14it/s]\n",
            "  0%|          | 0/151 [00:00<?, ?it/s]"
          ],
          "name": "stderr"
        },
        {
          "output_type": "stream",
          "text": [
            "\n",
            "Test set: Average loss: 1.8811, Accuracy: 18904/33000 (57.28%)\n",
            "\n",
            "EPOCH: 45\n"
          ],
          "name": "stdout"
        },
        {
          "output_type": "stream",
          "text": [
            "Loss=0.723487377166748 Batch_id=150 Accuracy=82.74: 100%|██████████| 151/151 [02:11<00:00,  1.14it/s]\n",
            "  0%|          | 0/151 [00:00<?, ?it/s]"
          ],
          "name": "stderr"
        },
        {
          "output_type": "stream",
          "text": [
            "\n",
            "Test set: Average loss: 1.8828, Accuracy: 18898/33000 (57.27%)\n",
            "\n",
            "EPOCH: 46\n"
          ],
          "name": "stdout"
        },
        {
          "output_type": "stream",
          "text": [
            "Loss=0.6960309743881226 Batch_id=150 Accuracy=82.49: 100%|██████████| 151/151 [02:12<00:00,  1.14it/s]\n",
            "  0%|          | 0/151 [00:00<?, ?it/s]"
          ],
          "name": "stderr"
        },
        {
          "output_type": "stream",
          "text": [
            "\n",
            "Test set: Average loss: 1.8813, Accuracy: 18913/33000 (57.31%)\n",
            "\n",
            "EPOCH: 47\n"
          ],
          "name": "stdout"
        },
        {
          "output_type": "stream",
          "text": [
            "Loss=0.6947318911552429 Batch_id=150 Accuracy=82.56: 100%|██████████| 151/151 [02:12<00:00,  1.14it/s]\n",
            "  0%|          | 0/151 [00:00<?, ?it/s]"
          ],
          "name": "stderr"
        },
        {
          "output_type": "stream",
          "text": [
            "\n",
            "Test set: Average loss: 1.8855, Accuracy: 18904/33000 (57.28%)\n",
            "\n",
            "EPOCH: 48\n"
          ],
          "name": "stdout"
        },
        {
          "output_type": "stream",
          "text": [
            "Loss=0.5862932801246643 Batch_id=150 Accuracy=82.67: 100%|██████████| 151/151 [02:12<00:00,  1.14it/s]\n",
            "  0%|          | 0/151 [00:00<?, ?it/s]"
          ],
          "name": "stderr"
        },
        {
          "output_type": "stream",
          "text": [
            "\n",
            "Test set: Average loss: 1.8810, Accuracy: 18905/33000 (57.29%)\n",
            "\n",
            "EPOCH: 49\n"
          ],
          "name": "stdout"
        },
        {
          "output_type": "stream",
          "text": [
            "Loss=0.6007633805274963 Batch_id=150 Accuracy=82.60: 100%|██████████| 151/151 [02:11<00:00,  1.14it/s]\n",
            "  0%|          | 0/151 [00:00<?, ?it/s]"
          ],
          "name": "stderr"
        },
        {
          "output_type": "stream",
          "text": [
            "\n",
            "Test set: Average loss: 1.8821, Accuracy: 18924/33000 (57.35%)\n",
            "\n",
            "EPOCH: 50\n"
          ],
          "name": "stdout"
        },
        {
          "output_type": "stream",
          "text": [
            "Loss=0.5462758541107178 Batch_id=150 Accuracy=82.64: 100%|██████████| 151/151 [02:11<00:00,  1.15it/s]\n"
          ],
          "name": "stderr"
        },
        {
          "output_type": "stream",
          "text": [
            "\n",
            "Test set: Average loss: 1.8778, Accuracy: 18910/33000 (57.30%)\n",
            "\n"
          ],
          "name": "stdout"
        }
      ]
    },
    {
      "cell_type": "code",
      "metadata": {
        "id": "_NmXSzcGrRtz",
        "colab_type": "code",
        "colab": {
          "base_uri": "https://localhost:8080/",
          "height": 597
        },
        "outputId": "cb0e9466-8f84-4807-db99-e9bf5f417a6b"
      },
      "source": [
        "plot_logs(logs)"
      ],
      "execution_count": 13,
      "outputs": [
        {
          "output_type": "display_data",
          "data": {
            "image/png": "[encoded data removed]",
            "text/plain": [
              "<Figure size 1080x720 with 4 Axes>"
            ]
          },
          "metadata": {
            "tags": [],
            "needs_background": "light"
          }
        }
      ]
    }
  ]
}