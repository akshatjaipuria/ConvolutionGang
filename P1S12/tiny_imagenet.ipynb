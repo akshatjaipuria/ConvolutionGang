{
  "nbformat": 4,
  "nbformat_minor": 0,
  "metadata": {
    "colab": {
      "name": "tiny_imagenet.ipynb",
      "provenance": [],
      "collapsed_sections": []
    },
    "kernelspec": {
      "name": "python3",
      "display_name": "Python 3"
    },
    "accelerator": "GPU"
  },
  "cells": [
    {
      "cell_type": "code",
      "metadata": {
        "id": "w_uuYYMK5E3U",
        "colab_type": "code",
        "colab": {}
      },
      "source": [
        "import os\n",
        "from os.path import join\n",
        "from os import listdir, rmdir\n",
        "import zipfile\n",
        "import requests\n",
        "import io\n",
        "from io import StringIO, BytesIO\n",
        "import glob\n",
        "from shutil import move\n",
        "import random"
      ],
      "execution_count": 0,
      "outputs": []
    },
    {
      "cell_type": "code",
      "metadata": {
        "id": "8EK_ljDC6jbb",
        "colab_type": "code",
        "colab": {}
      },
      "source": [
        "def download_images(url):\n",
        "  if(os.path.isdir(\"tiny-imagenet-200\")):\n",
        "    print(\"Images already downloaded...\")\n",
        "    return\n",
        "  r = requests.get(url, stream=True)\n",
        "  print(\"Downloading \"+url)\n",
        "  zip_ref = zipfile.ZipFile(BytesIO(r.content))\n",
        "  zip_ref.extractall(\"./\")\n",
        "  zip_ref.close()"
      ],
      "execution_count": 0,
      "outputs": []
    },
    {
      "cell_type": "code",
      "metadata": {
        "id": "59HkHOjY7f1H",
        "colab_type": "code",
        "outputId": "b6805a75-e2eb-46e8-9faa-536c17743aee",
        "colab": {
          "base_uri": "https://localhost:8080/",
          "height": 35
        }
      },
      "source": [
        "download_images(\"http://cs231n.stanford.edu/tiny-imagenet-200.zip\")"
      ],
      "execution_count": 3,
      "outputs": [
        {
          "output_type": "stream",
          "text": [
            "Downloading http://cs231n.stanford.edu/tiny-imagenet-200.zip\n"
          ],
          "name": "stdout"
        }
      ]
    },
    {
      "cell_type": "code",
      "metadata": {
        "id": "1KH1-A_AgNih",
        "colab_type": "code",
        "colab": {}
      },
      "source": [
        "import io\n",
        "import glob\n",
        "import os\n",
        "from shutil import move\n",
        "from os.path import join\n",
        "from os import listdir, rmdir\n",
        "\n",
        "target_folder = './tiny-imagenet-200/val/'\n",
        "dest_folder   = './tiny-imagenet-200/train/'\n",
        "\n",
        "val_dict = {}\n",
        "with open('./tiny-imagenet-200/val/val_annotations.txt', 'r') as f:\n",
        "    for line in f.readlines():\n",
        "        split_line = line.split('\\t')\n",
        "        val_dict[split_line[0]] = split_line[1]\n",
        "        \n",
        "paths = glob.glob('./tiny-imagenet-200/val/images/*')        \n",
        "        \n",
        "for path in paths:\n",
        "    file = path.split('/')[-1]\n",
        "    folder = val_dict[file]\n",
        "    dest = dest_folder + str(folder) + '/images/' + str(file)\n",
        "    move(path, dest)\n",
        "    \n",
        "rmdir('./tiny-imagenet-200/val/images')"
      ],
      "execution_count": 0,
      "outputs": []
    },
    {
      "cell_type": "code",
      "metadata": {
        "id": "w_EpwVY4vnY2",
        "colab_type": "code",
        "colab": {}
      },
      "source": [
        "target_folder = './tiny-imagenet-200/train/'\n",
        "train_folder = './tiny-imagenet-200/train_set/'\n",
        "test_folder = './tiny-imagenet-200/test_set/'\n",
        "\n",
        "os.mkdir(train_folder)\n",
        "os.mkdir(test_folder)\n",
        "\n",
        "paths = glob.glob('./tiny-imagenet-200/train/*')\n",
        "\n",
        "for path in paths:\n",
        "    folder = path.split('/')[-1].split('\\\\')[-1]\n",
        "    source = target_folder+str(folder+'/images/')\n",
        "    train_dest = train_folder+str(folder+'/')\n",
        "    test_dest = test_folder+str(folder+'/')\n",
        "    os.mkdir(train_dest)\n",
        "    os.mkdir(test_dest)\n",
        "    images = glob.glob(source+str('*'))\n",
        "    \n",
        "    #making random\n",
        "    random.shuffle(images)\n",
        "    \n",
        "    test_imgs = images[:165].copy()\n",
        "    train_imgs = images[165:].copy()\n",
        "    \n",
        "    #moving 30% for validation\n",
        "    for image in test_imgs:\n",
        "        file = image.split('/')[-1].split('\\\\')[-1]\n",
        "        dest = test_dest+str(file)\n",
        "        move(image, dest)\n",
        "        \n",
        "    #moving 70% for training\n",
        "    for image in train_imgs:\n",
        "        file = image.split('/')[-1].split('\\\\')[-1]\n",
        "        dest = train_dest+str(file)\n",
        "        move(image, dest)"
      ],
      "execution_count": 0,
      "outputs": []
    },
    {
      "cell_type": "code",
      "metadata": {
        "id": "1i5SX_lkwg85",
        "colab_type": "code",
        "colab": {}
      },
      "source": [
        "!pip install albumentations==0.4.5"
      ],
      "execution_count": 0,
      "outputs": []
    },
    {
      "cell_type": "code",
      "metadata": {
        "id": "0_KsO29Cvtn4",
        "colab_type": "code",
        "colab": {}
      },
      "source": [
        "from data_loader_tinyimagenet import tiny_imagenet\n",
        "from resnet import ResNet, BasicBlock\n",
        "from utils import model_summary, plot_logs\n",
        "from train import train_model\n",
        "from torch import nn\n",
        "import torch.optim as optim\n",
        "import torch"
      ],
      "execution_count": 0,
      "outputs": []
    },
    {
      "cell_type": "code",
      "metadata": {
        "id": "mAl9cctXwvZN",
        "colab_type": "code",
        "colab": {}
      },
      "source": [
        "def ResNet18():\n",
        "    return ResNet(BasicBlock, [2, 2, 2, 2], 200)"
      ],
      "execution_count": 0,
      "outputs": []
    },
    {
      "cell_type": "code",
      "metadata": {
        "id": "QdwODSmXwwK7",
        "colab_type": "code",
        "outputId": "6b454ab4-cdf1-4173-a69b-055a1fcb354f",
        "colab": {
          "base_uri": "https://localhost:8080/",
          "height": 35
        }
      },
      "source": [
        "trainloader, testloader = tiny_imagenet()"
      ],
      "execution_count": 17,
      "outputs": [
        {
          "output_type": "stream",
          "text": [
            "CUDA Available? True\n"
          ],
          "name": "stdout"
        }
      ]
    },
    {
      "cell_type": "code",
      "metadata": {
        "id": "lLost8ckxYdS",
        "colab_type": "code",
        "colab": {}
      },
      "source": [
        "net = ResNet18()"
      ],
      "execution_count": 0,
      "outputs": []
    },
    {
      "cell_type": "code",
      "metadata": {
        "id": "wL3fy_K9xbAm",
        "colab_type": "code",
        "outputId": "5b6bd679-a87f-458e-f53f-559985340c3b",
        "colab": {
          "base_uri": "https://localhost:8080/",
          "height": 1000
        }
      },
      "source": [
        "device = model_summary(net, (3, 64, 64))"
      ],
      "execution_count": 19,
      "outputs": [
        {
          "output_type": "stream",
          "text": [
            "----------------------------------------------------------------\n",
            "        Layer (type)               Output Shape         Param #\n",
            "================================================================\n",
            "            Conv2d-1           [-1, 64, 64, 64]           1,728\n",
            "       BatchNorm2d-2           [-1, 64, 64, 64]             128\n",
            "            Conv2d-3           [-1, 64, 64, 64]          36,864\n",
            "       BatchNorm2d-4           [-1, 64, 64, 64]             128\n",
            "            Conv2d-5           [-1, 64, 64, 64]          36,864\n",
            "       BatchNorm2d-6           [-1, 64, 64, 64]             128\n",
            "        BasicBlock-7           [-1, 64, 64, 64]               0\n",
            "            Conv2d-8           [-1, 64, 64, 64]          36,864\n",
            "       BatchNorm2d-9           [-1, 64, 64, 64]             128\n",
            "           Conv2d-10           [-1, 64, 64, 64]          36,864\n",
            "      BatchNorm2d-11           [-1, 64, 64, 64]             128\n",
            "       BasicBlock-12           [-1, 64, 64, 64]               0\n",
            "           Conv2d-13          [-1, 128, 32, 32]          73,728\n",
            "      BatchNorm2d-14          [-1, 128, 32, 32]             256\n",
            "           Conv2d-15          [-1, 128, 32, 32]         147,456\n",
            "      BatchNorm2d-16          [-1, 128, 32, 32]             256\n",
            "           Conv2d-17          [-1, 128, 32, 32]           8,192\n",
            "      BatchNorm2d-18          [-1, 128, 32, 32]             256\n",
            "       BasicBlock-19          [-1, 128, 32, 32]               0\n",
            "           Conv2d-20          [-1, 128, 32, 32]         147,456\n",
            "      BatchNorm2d-21          [-1, 128, 32, 32]             256\n",
            "           Conv2d-22          [-1, 128, 32, 32]         147,456\n",
            "      BatchNorm2d-23          [-1, 128, 32, 32]             256\n",
            "       BasicBlock-24          [-1, 128, 32, 32]               0\n",
            "           Conv2d-25          [-1, 256, 16, 16]         294,912\n",
            "      BatchNorm2d-26          [-1, 256, 16, 16]             512\n",
            "           Conv2d-27          [-1, 256, 16, 16]         589,824\n",
            "      BatchNorm2d-28          [-1, 256, 16, 16]             512\n",
            "           Conv2d-29          [-1, 256, 16, 16]          32,768\n",
            "      BatchNorm2d-30          [-1, 256, 16, 16]             512\n",
            "       BasicBlock-31          [-1, 256, 16, 16]               0\n",
            "           Conv2d-32          [-1, 256, 16, 16]         589,824\n",
            "      BatchNorm2d-33          [-1, 256, 16, 16]             512\n",
            "           Conv2d-34          [-1, 256, 16, 16]         589,824\n",
            "      BatchNorm2d-35          [-1, 256, 16, 16]             512\n",
            "       BasicBlock-36          [-1, 256, 16, 16]               0\n",
            "           Conv2d-37            [-1, 512, 8, 8]       1,179,648\n",
            "      BatchNorm2d-38            [-1, 512, 8, 8]           1,024\n",
            "           Conv2d-39            [-1, 512, 8, 8]       2,359,296\n",
            "      BatchNorm2d-40            [-1, 512, 8, 8]           1,024\n",
            "           Conv2d-41            [-1, 512, 8, 8]         131,072\n",
            "      BatchNorm2d-42            [-1, 512, 8, 8]           1,024\n",
            "       BasicBlock-43            [-1, 512, 8, 8]               0\n",
            "           Conv2d-44            [-1, 512, 8, 8]       2,359,296\n",
            "      BatchNorm2d-45            [-1, 512, 8, 8]           1,024\n",
            "           Conv2d-46            [-1, 512, 8, 8]       2,359,296\n",
            "      BatchNorm2d-47            [-1, 512, 8, 8]           1,024\n",
            "       BasicBlock-48            [-1, 512, 8, 8]               0\n",
            "           Linear-49                  [-1, 200]         102,600\n",
            "================================================================\n",
            "Total params: 11,271,432\n",
            "Trainable params: 11,271,432\n",
            "Non-trainable params: 0\n",
            "----------------------------------------------------------------\n",
            "Input size (MB): 0.05\n",
            "Forward/backward pass size (MB): 45.00\n",
            "Params size (MB): 43.00\n",
            "Estimated Total Size (MB): 88.05\n",
            "----------------------------------------------------------------\n",
            "None\n"
          ],
          "name": "stdout"
        }
      ]
    },
    {
      "cell_type": "code",
      "metadata": {
        "id": "y_rFI4iaxfDp",
        "colab_type": "code",
        "outputId": "00476842-a1bc-4f35-c991-5c51b451172e",
        "colab": {
          "base_uri": "https://localhost:8080/",
          "height": 1000
        }
      },
      "source": [
        "trainer = train_model(trainloader, testloader, device)\n",
        "logs, misclassified_images = trainer.run_model(net, lr=0.01, epochs=50, patience=5, sch=True)"
      ],
      "execution_count": 24,
      "outputs": [
        {
          "output_type": "stream",
          "text": [
            "\r  0%|          | 0/151 [00:00<?, ?it/s]"
          ],
          "name": "stderr"
        },
        {
          "output_type": "stream",
          "text": [
            "EPOCH: 1\n"
          ],
          "name": "stdout"
        },
        {
          "output_type": "stream",
          "text": [
            "Loss=4.441676139831543 Batch_id=150 Accuracy=5.35: 100%|██████████| 151/151 [02:11<00:00,  1.14it/s]\n",
            "  0%|          | 0/151 [00:00<?, ?it/s]"
          ],
          "name": "stderr"
        },
        {
          "output_type": "stream",
          "text": [
            "\n",
            "Test set: Average loss: 4.5204, Accuracy: 2404/33000 (7.28%)\n",
            "\n",
            "EPOCH: 2\n"
          ],
          "name": "stdout"
        },
        {
          "output_type": "stream",
          "text": [
            "Loss=4.095428466796875 Batch_id=150 Accuracy=11.07: 100%|██████████| 151/151 [02:12<00:00,  1.14it/s]\n",
            "  0%|          | 0/151 [00:00<?, ?it/s]"
          ],
          "name": "stderr"
        },
        {
          "output_type": "stream",
          "text": [
            "\n",
            "Test set: Average loss: 4.0682, Accuracy: 4126/33000 (12.50%)\n",
            "\n",
            "EPOCH: 3\n"
          ],
          "name": "stdout"
        },
        {
          "output_type": "stream",
          "text": [
            "Loss=3.6046674251556396 Batch_id=150 Accuracy=15.49: 100%|██████████| 151/151 [02:12<00:00,  1.14it/s]\n",
            "  0%|          | 0/151 [00:00<?, ?it/s]"
          ],
          "name": "stderr"
        },
        {
          "output_type": "stream",
          "text": [
            "\n",
            "Test set: Average loss: 3.9298, Accuracy: 5088/33000 (15.42%)\n",
            "\n",
            "EPOCH: 4\n"
          ],
          "name": "stdout"
        },
        {
          "output_type": "stream",
          "text": [
            "Loss=3.646259069442749 Batch_id=150 Accuracy=19.08: 100%|██████████| 151/151 [02:11<00:00,  1.15it/s]\n",
            "  0%|          | 0/151 [00:00<?, ?it/s]"
          ],
          "name": "stderr"
        },
        {
          "output_type": "stream",
          "text": [
            "\n",
            "Test set: Average loss: 3.6279, Accuracy: 6533/33000 (19.80%)\n",
            "\n",
            "EPOCH: 5\n"
          ],
          "name": "stdout"
        },
        {
          "output_type": "stream",
          "text": [
            "Loss=3.2248806953430176 Batch_id=150 Accuracy=22.44: 100%|██████████| 151/151 [02:12<00:00,  1.14it/s]\n",
            "  0%|          | 0/151 [00:00<?, ?it/s]"
          ],
          "name": "stderr"
        },
        {
          "output_type": "stream",
          "text": [
            "\n",
            "Test set: Average loss: 3.6741, Accuracy: 6128/33000 (18.57%)\n",
            "\n",
            "EPOCH: 6\n"
          ],
          "name": "stdout"
        },
        {
          "output_type": "stream",
          "text": [
            "Loss=3.1125552654266357 Batch_id=150 Accuracy=25.10: 100%|██████████| 151/151 [02:12<00:00,  1.14it/s]\n",
            "  0%|          | 0/151 [00:00<?, ?it/s]"
          ],
          "name": "stderr"
        },
        {
          "output_type": "stream",
          "text": [
            "\n",
            "Test set: Average loss: 3.6206, Accuracy: 6639/33000 (20.12%)\n",
            "\n",
            "EPOCH: 7\n"
          ],
          "name": "stdout"
        },
        {
          "output_type": "stream",
          "text": [
            "Loss=2.9858932495117188 Batch_id=150 Accuracy=27.59: 100%|██████████| 151/151 [02:12<00:00,  1.14it/s]\n",
            "  0%|          | 0/151 [00:00<?, ?it/s]"
          ],
          "name": "stderr"
        },
        {
          "output_type": "stream",
          "text": [
            "\n",
            "Test set: Average loss: 3.1708, Accuracy: 8937/33000 (27.08%)\n",
            "\n",
            "EPOCH: 8\n"
          ],
          "name": "stdout"
        },
        {
          "output_type": "stream",
          "text": [
            "Loss=2.962643623352051 Batch_id=150 Accuracy=29.83: 100%|██████████| 151/151 [02:12<00:00,  1.14it/s]\n",
            "  0%|          | 0/151 [00:00<?, ?it/s]"
          ],
          "name": "stderr"
        },
        {
          "output_type": "stream",
          "text": [
            "\n",
            "Test set: Average loss: 3.1333, Accuracy: 9085/33000 (27.53%)\n",
            "\n",
            "EPOCH: 9\n"
          ],
          "name": "stdout"
        },
        {
          "output_type": "stream",
          "text": [
            "Loss=2.9941091537475586 Batch_id=150 Accuracy=32.10: 100%|██████████| 151/151 [02:12<00:00,  1.14it/s]\n",
            "  0%|          | 0/151 [00:00<?, ?it/s]"
          ],
          "name": "stderr"
        },
        {
          "output_type": "stream",
          "text": [
            "\n",
            "Test set: Average loss: 3.3181, Accuracy: 8316/33000 (25.20%)\n",
            "\n",
            "EPOCH: 10\n"
          ],
          "name": "stdout"
        },
        {
          "output_type": "stream",
          "text": [
            "Loss=2.750809907913208 Batch_id=150 Accuracy=33.71: 100%|██████████| 151/151 [02:12<00:00,  1.14it/s]\n",
            "  0%|          | 0/151 [00:00<?, ?it/s]"
          ],
          "name": "stderr"
        },
        {
          "output_type": "stream",
          "text": [
            "\n",
            "Test set: Average loss: 2.9112, Accuracy: 10606/33000 (32.14%)\n",
            "\n",
            "EPOCH: 11\n"
          ],
          "name": "stdout"
        },
        {
          "output_type": "stream",
          "text": [
            "Loss=2.7077956199645996 Batch_id=150 Accuracy=35.86: 100%|██████████| 151/151 [02:12<00:00,  1.14it/s]\n",
            "  0%|          | 0/151 [00:00<?, ?it/s]"
          ],
          "name": "stderr"
        },
        {
          "output_type": "stream",
          "text": [
            "\n",
            "Test set: Average loss: 2.9928, Accuracy: 10398/33000 (31.51%)\n",
            "\n",
            "EPOCH: 12\n"
          ],
          "name": "stdout"
        },
        {
          "output_type": "stream",
          "text": [
            "Loss=2.7541720867156982 Batch_id=150 Accuracy=37.43: 100%|██████████| 151/151 [02:12<00:00,  1.14it/s]\n",
            "  0%|          | 0/151 [00:00<?, ?it/s]"
          ],
          "name": "stderr"
        },
        {
          "output_type": "stream",
          "text": [
            "\n",
            "Test set: Average loss: 2.6703, Accuracy: 12131/33000 (36.76%)\n",
            "\n",
            "EPOCH: 13\n"
          ],
          "name": "stdout"
        },
        {
          "output_type": "stream",
          "text": [
            "Loss=2.552048444747925 Batch_id=150 Accuracy=39.04: 100%|██████████| 151/151 [02:12<00:00,  1.14it/s]\n",
            "  0%|          | 0/151 [00:00<?, ?it/s]"
          ],
          "name": "stderr"
        },
        {
          "output_type": "stream",
          "text": [
            "\n",
            "Test set: Average loss: 2.8074, Accuracy: 11344/33000 (34.38%)\n",
            "\n",
            "EPOCH: 14\n"
          ],
          "name": "stdout"
        },
        {
          "output_type": "stream",
          "text": [
            "Loss=2.5636727809906006 Batch_id=150 Accuracy=40.74: 100%|██████████| 151/151 [02:12<00:00,  1.14it/s]\n",
            "  0%|          | 0/151 [00:00<?, ?it/s]"
          ],
          "name": "stderr"
        },
        {
          "output_type": "stream",
          "text": [
            "\n",
            "Test set: Average loss: 2.5998, Accuracy: 12443/33000 (37.71%)\n",
            "\n",
            "EPOCH: 15\n"
          ],
          "name": "stdout"
        },
        {
          "output_type": "stream",
          "text": [
            "Loss=2.4448111057281494 Batch_id=150 Accuracy=42.00: 100%|██████████| 151/151 [02:12<00:00,  1.14it/s]\n",
            "  0%|          | 0/151 [00:00<?, ?it/s]"
          ],
          "name": "stderr"
        },
        {
          "output_type": "stream",
          "text": [
            "\n",
            "Test set: Average loss: 2.5647, Accuracy: 12709/33000 (38.51%)\n",
            "\n",
            "EPOCH: 16\n"
          ],
          "name": "stdout"
        },
        {
          "output_type": "stream",
          "text": [
            "Loss=2.753019332885742 Batch_id=150 Accuracy=43.54: 100%|██████████| 151/151 [02:11<00:00,  1.14it/s]\n",
            "  0%|          | 0/151 [00:00<?, ?it/s]"
          ],
          "name": "stderr"
        },
        {
          "output_type": "stream",
          "text": [
            "\n",
            "Test set: Average loss: 2.7030, Accuracy: 11987/33000 (36.32%)\n",
            "\n",
            "EPOCH: 17\n"
          ],
          "name": "stdout"
        },
        {
          "output_type": "stream",
          "text": [
            "Loss=2.2667107582092285 Batch_id=150 Accuracy=44.82: 100%|██████████| 151/151 [02:12<00:00,  1.14it/s]\n",
            "  0%|          | 0/151 [00:00<?, ?it/s]"
          ],
          "name": "stderr"
        },
        {
          "output_type": "stream",
          "text": [
            "\n",
            "Test set: Average loss: 2.6056, Accuracy: 12652/33000 (38.34%)\n",
            "\n",
            "EPOCH: 18\n"
          ],
          "name": "stdout"
        },
        {
          "output_type": "stream",
          "text": [
            "Loss=2.228553295135498 Batch_id=150 Accuracy=46.06: 100%|██████████| 151/151 [02:12<00:00,  1.14it/s]\n",
            "  0%|          | 0/151 [00:00<?, ?it/s]"
          ],
          "name": "stderr"
        },
        {
          "output_type": "stream",
          "text": [
            "\n",
            "Test set: Average loss: 2.5190, Accuracy: 13352/33000 (40.46%)\n",
            "\n",
            "EPOCH: 19\n"
          ],
          "name": "stdout"
        },
        {
          "output_type": "stream",
          "text": [
            "Loss=2.03965425491333 Batch_id=150 Accuracy=47.22: 100%|██████████| 151/151 [02:12<00:00,  1.14it/s]\n",
            "  0%|          | 0/151 [00:00<?, ?it/s]"
          ],
          "name": "stderr"
        },
        {
          "output_type": "stream",
          "text": [
            "\n",
            "Test set: Average loss: 2.4732, Accuracy: 13595/33000 (41.20%)\n",
            "\n",
            "EPOCH: 20\n"
          ],
          "name": "stdout"
        },
        {
          "output_type": "stream",
          "text": [
            "Loss=2.0820963382720947 Batch_id=150 Accuracy=48.27: 100%|██████████| 151/151 [02:12<00:00,  1.14it/s]\n",
            "  0%|          | 0/151 [00:00<?, ?it/s]"
          ],
          "name": "stderr"
        },
        {
          "output_type": "stream",
          "text": [
            "\n",
            "Test set: Average loss: 2.4728, Accuracy: 13664/33000 (41.41%)\n",
            "\n",
            "EPOCH: 21\n"
          ],
          "name": "stdout"
        },
        {
          "output_type": "stream",
          "text": [
            "Loss=2.0705034732818604 Batch_id=150 Accuracy=49.44: 100%|██████████| 151/151 [02:12<00:00,  1.14it/s]\n",
            "  0%|          | 0/151 [00:00<?, ?it/s]"
          ],
          "name": "stderr"
        },
        {
          "output_type": "stream",
          "text": [
            "\n",
            "Test set: Average loss: 2.4552, Accuracy: 13708/33000 (41.54%)\n",
            "\n",
            "EPOCH: 22\n"
          ],
          "name": "stdout"
        },
        {
          "output_type": "stream",
          "text": [
            "Loss=2.1583681106567383 Batch_id=150 Accuracy=50.28: 100%|██████████| 151/151 [02:12<00:00,  1.14it/s]\n",
            "  0%|          | 0/151 [00:00<?, ?it/s]"
          ],
          "name": "stderr"
        },
        {
          "output_type": "stream",
          "text": [
            "\n",
            "Test set: Average loss: 2.4012, Accuracy: 14267/33000 (43.23%)\n",
            "\n",
            "EPOCH: 23\n"
          ],
          "name": "stdout"
        },
        {
          "output_type": "stream",
          "text": [
            "Loss=2.115889310836792 Batch_id=150 Accuracy=51.51: 100%|██████████| 151/151 [02:12<00:00,  1.14it/s]\n",
            "  0%|          | 0/151 [00:00<?, ?it/s]"
          ],
          "name": "stderr"
        },
        {
          "output_type": "stream",
          "text": [
            "\n",
            "Test set: Average loss: 2.3817, Accuracy: 14180/33000 (42.97%)\n",
            "\n",
            "EPOCH: 24\n"
          ],
          "name": "stdout"
        },
        {
          "output_type": "stream",
          "text": [
            "Loss=1.9445170164108276 Batch_id=150 Accuracy=52.37: 100%|██████████| 151/151 [02:12<00:00,  1.14it/s]\n",
            "  0%|          | 0/151 [00:00<?, ?it/s]"
          ],
          "name": "stderr"
        },
        {
          "output_type": "stream",
          "text": [
            "\n",
            "Test set: Average loss: 2.2461, Accuracy: 15078/33000 (45.69%)\n",
            "\n",
            "EPOCH: 25\n"
          ],
          "name": "stdout"
        },
        {
          "output_type": "stream",
          "text": [
            "Loss=2.2073333263397217 Batch_id=150 Accuracy=53.26: 100%|██████████| 151/151 [02:12<00:00,  1.14it/s]\n",
            "  0%|          | 0/151 [00:00<?, ?it/s]"
          ],
          "name": "stderr"
        },
        {
          "output_type": "stream",
          "text": [
            "\n",
            "Test set: Average loss: 2.4243, Accuracy: 14214/33000 (43.07%)\n",
            "\n",
            "EPOCH: 26\n"
          ],
          "name": "stdout"
        },
        {
          "output_type": "stream",
          "text": [
            "Loss=1.8985389471054077 Batch_id=150 Accuracy=54.23: 100%|██████████| 151/151 [02:12<00:00,  1.14it/s]\n",
            "  0%|          | 0/151 [00:00<?, ?it/s]"
          ],
          "name": "stderr"
        },
        {
          "output_type": "stream",
          "text": [
            "\n",
            "Test set: Average loss: 2.4119, Accuracy: 14347/33000 (43.48%)\n",
            "\n",
            "EPOCH: 27\n"
          ],
          "name": "stdout"
        },
        {
          "output_type": "stream",
          "text": [
            "Loss=1.9888304471969604 Batch_id=150 Accuracy=55.25: 100%|██████████| 151/151 [02:12<00:00,  1.14it/s]\n",
            "  0%|          | 0/151 [00:00<?, ?it/s]"
          ],
          "name": "stderr"
        },
        {
          "output_type": "stream",
          "text": [
            "\n",
            "Test set: Average loss: 2.5936, Accuracy: 13431/33000 (40.70%)\n",
            "\n",
            "EPOCH: 28\n"
          ],
          "name": "stdout"
        },
        {
          "output_type": "stream",
          "text": [
            "Loss=1.7588502168655396 Batch_id=150 Accuracy=56.06: 100%|██████████| 151/151 [02:12<00:00,  1.14it/s]\n",
            "  0%|          | 0/151 [00:00<?, ?it/s]"
          ],
          "name": "stderr"
        },
        {
          "output_type": "stream",
          "text": [
            "\n",
            "Test set: Average loss: 2.2219, Accuracy: 15463/33000 (46.86%)\n",
            "\n",
            "EPOCH: 29\n"
          ],
          "name": "stdout"
        },
        {
          "output_type": "stream",
          "text": [
            "Loss=1.5923787355422974 Batch_id=150 Accuracy=56.73: 100%|██████████| 151/151 [02:12<00:00,  1.14it/s]\n",
            "  0%|          | 0/151 [00:00<?, ?it/s]"
          ],
          "name": "stderr"
        },
        {
          "output_type": "stream",
          "text": [
            "\n",
            "Test set: Average loss: 2.1923, Accuracy: 15698/33000 (47.57%)\n",
            "\n",
            "EPOCH: 30\n"
          ],
          "name": "stdout"
        },
        {
          "output_type": "stream",
          "text": [
            "Loss=1.6553301811218262 Batch_id=150 Accuracy=57.69: 100%|██████████| 151/151 [02:12<00:00,  1.14it/s]\n",
            "  0%|          | 0/151 [00:00<?, ?it/s]"
          ],
          "name": "stderr"
        },
        {
          "output_type": "stream",
          "text": [
            "\n",
            "Test set: Average loss: 2.3843, Accuracy: 14706/33000 (44.56%)\n",
            "\n",
            "EPOCH: 31\n"
          ],
          "name": "stdout"
        },
        {
          "output_type": "stream",
          "text": [
            "Loss=1.5961556434631348 Batch_id=150 Accuracy=58.69: 100%|██████████| 151/151 [02:12<00:00,  1.14it/s]\n",
            "  0%|          | 0/151 [00:00<?, ?it/s]"
          ],
          "name": "stderr"
        },
        {
          "output_type": "stream",
          "text": [
            "\n",
            "Test set: Average loss: 2.3281, Accuracy: 15015/33000 (45.50%)\n",
            "\n",
            "EPOCH: 32\n"
          ],
          "name": "stdout"
        },
        {
          "output_type": "stream",
          "text": [
            "Loss=1.828240990638733 Batch_id=150 Accuracy=59.54: 100%|██████████| 151/151 [02:12<00:00,  1.14it/s]\n",
            "  0%|          | 0/151 [00:00<?, ?it/s]"
          ],
          "name": "stderr"
        },
        {
          "output_type": "stream",
          "text": [
            "\n",
            "Test set: Average loss: 2.2091, Accuracy: 15717/33000 (47.63%)\n",
            "\n",
            "EPOCH: 33\n"
          ],
          "name": "stdout"
        },
        {
          "output_type": "stream",
          "text": [
            "Loss=1.5952575206756592 Batch_id=150 Accuracy=60.18: 100%|██████████| 151/151 [02:12<00:00,  1.14it/s]\n",
            "  0%|          | 0/151 [00:00<?, ?it/s]"
          ],
          "name": "stderr"
        },
        {
          "output_type": "stream",
          "text": [
            "\n",
            "Test set: Average loss: 2.2232, Accuracy: 15556/33000 (47.14%)\n",
            "\n",
            "EPOCH: 34\n"
          ],
          "name": "stdout"
        },
        {
          "output_type": "stream",
          "text": [
            "Loss=1.4561442136764526 Batch_id=150 Accuracy=60.75: 100%|██████████| 151/151 [02:12<00:00,  1.14it/s]\n",
            "  0%|          | 0/151 [00:00<?, ?it/s]"
          ],
          "name": "stderr"
        },
        {
          "output_type": "stream",
          "text": [
            "\n",
            "Test set: Average loss: 2.2152, Accuracy: 15841/33000 (48.00%)\n",
            "\n",
            "EPOCH: 35\n"
          ],
          "name": "stdout"
        },
        {
          "output_type": "stream",
          "text": [
            "Loss=1.6308940649032593 Batch_id=150 Accuracy=61.61: 100%|██████████| 151/151 [02:12<00:00,  1.14it/s]\n",
            "  0%|          | 0/151 [00:00<?, ?it/s]"
          ],
          "name": "stderr"
        },
        {
          "output_type": "stream",
          "text": [
            "\n",
            "Test set: Average loss: 2.1969, Accuracy: 15813/33000 (47.92%)\n",
            "\n",
            "EPOCH: 36\n"
          ],
          "name": "stdout"
        },
        {
          "output_type": "stream",
          "text": [
            "Loss=1.1400730609893799 Batch_id=150 Accuracy=68.59: 100%|██████████| 151/151 [02:12<00:00,  1.14it/s]\n",
            "  0%|          | 0/151 [00:00<?, ?it/s]"
          ],
          "name": "stderr"
        },
        {
          "output_type": "stream",
          "text": [
            "\n",
            "Test set: Average loss: 1.8311, Accuracy: 18237/33000 (55.26%)\n",
            "\n",
            "EPOCH: 37\n"
          ],
          "name": "stdout"
        },
        {
          "output_type": "stream",
          "text": [
            "Loss=1.03507661819458 Batch_id=150 Accuracy=70.70: 100%|██████████| 151/151 [02:12<00:00,  1.14it/s]\n",
            "  0%|          | 0/151 [00:00<?, ?it/s]"
          ],
          "name": "stderr"
        },
        {
          "output_type": "stream",
          "text": [
            "\n",
            "Test set: Average loss: 1.8196, Accuracy: 18330/33000 (55.55%)\n",
            "\n",
            "EPOCH: 38\n"
          ],
          "name": "stdout"
        },
        {
          "output_type": "stream",
          "text": [
            "Loss=1.2116954326629639 Batch_id=150 Accuracy=71.64: 100%|██████████| 151/151 [02:12<00:00,  1.14it/s]\n",
            "  0%|          | 0/151 [00:00<?, ?it/s]"
          ],
          "name": "stderr"
        },
        {
          "output_type": "stream",
          "text": [
            "\n",
            "Test set: Average loss: 1.8198, Accuracy: 18376/33000 (55.68%)\n",
            "\n",
            "EPOCH: 39\n"
          ],
          "name": "stdout"
        },
        {
          "output_type": "stream",
          "text": [
            "Loss=1.0346029996871948 Batch_id=150 Accuracy=71.72: 100%|██████████| 151/151 [02:12<00:00,  1.14it/s]\n",
            "  0%|          | 0/151 [00:00<?, ?it/s]"
          ],
          "name": "stderr"
        },
        {
          "output_type": "stream",
          "text": [
            "\n",
            "Test set: Average loss: 1.8123, Accuracy: 18462/33000 (55.95%)\n",
            "\n",
            "EPOCH: 40\n"
          ],
          "name": "stdout"
        },
        {
          "output_type": "stream",
          "text": [
            "Loss=1.0660178661346436 Batch_id=150 Accuracy=72.32: 100%|██████████| 151/151 [02:12<00:00,  1.14it/s]\n",
            "  0%|          | 0/151 [00:00<?, ?it/s]"
          ],
          "name": "stderr"
        },
        {
          "output_type": "stream",
          "text": [
            "\n",
            "Test set: Average loss: 1.8224, Accuracy: 18354/33000 (55.62%)\n",
            "\n",
            "EPOCH: 41\n"
          ],
          "name": "stdout"
        },
        {
          "output_type": "stream",
          "text": [
            "Loss=1.135392189025879 Batch_id=150 Accuracy=72.58: 100%|██████████| 151/151 [02:12<00:00,  1.14it/s]\n",
            "  0%|          | 0/151 [00:00<?, ?it/s]"
          ],
          "name": "stderr"
        },
        {
          "output_type": "stream",
          "text": [
            "\n",
            "Test set: Average loss: 1.8173, Accuracy: 18357/33000 (55.63%)\n",
            "\n",
            "EPOCH: 42\n"
          ],
          "name": "stdout"
        },
        {
          "output_type": "stream",
          "text": [
            "Loss=1.2627606391906738 Batch_id=150 Accuracy=72.47: 100%|██████████| 151/151 [02:12<00:00,  1.14it/s]\n",
            "  0%|          | 0/151 [00:00<?, ?it/s]"
          ],
          "name": "stderr"
        },
        {
          "output_type": "stream",
          "text": [
            "\n",
            "Test set: Average loss: 1.8132, Accuracy: 18386/33000 (55.72%)\n",
            "\n",
            "EPOCH: 43\n"
          ],
          "name": "stdout"
        },
        {
          "output_type": "stream",
          "text": [
            "Loss=1.1548768281936646 Batch_id=150 Accuracy=72.99: 100%|██████████| 151/151 [02:12<00:00,  1.14it/s]\n",
            "  0%|          | 0/151 [00:00<?, ?it/s]"
          ],
          "name": "stderr"
        },
        {
          "output_type": "stream",
          "text": [
            "\n",
            "Test set: Average loss: 1.8241, Accuracy: 18320/33000 (55.52%)\n",
            "\n",
            "EPOCH: 44\n"
          ],
          "name": "stdout"
        },
        {
          "output_type": "stream",
          "text": [
            "Loss=1.0273823738098145 Batch_id=150 Accuracy=73.20: 100%|██████████| 151/151 [02:12<00:00,  1.14it/s]\n",
            "  0%|          | 0/151 [00:00<?, ?it/s]"
          ],
          "name": "stderr"
        },
        {
          "output_type": "stream",
          "text": [
            "\n",
            "Test set: Average loss: 1.8152, Accuracy: 18383/33000 (55.71%)\n",
            "\n",
            "EPOCH: 45\n"
          ],
          "name": "stdout"
        },
        {
          "output_type": "stream",
          "text": [
            "Loss=0.9934253692626953 Batch_id=150 Accuracy=73.32: 100%|██████████| 151/151 [02:12<00:00,  1.14it/s]\n",
            "  0%|          | 0/151 [00:00<?, ?it/s]"
          ],
          "name": "stderr"
        },
        {
          "output_type": "stream",
          "text": [
            "\n",
            "Test set: Average loss: 1.8152, Accuracy: 18431/33000 (55.85%)\n",
            "\n",
            "EPOCH: 46\n"
          ],
          "name": "stdout"
        },
        {
          "output_type": "stream",
          "text": [
            "Loss=0.9550901651382446 Batch_id=150 Accuracy=74.25: 100%|██████████| 151/151 [02:11<00:00,  1.14it/s]\n",
            "  0%|          | 0/151 [00:00<?, ?it/s]"
          ],
          "name": "stderr"
        },
        {
          "output_type": "stream",
          "text": [
            "\n",
            "Test set: Average loss: 1.8046, Accuracy: 18510/33000 (56.09%)\n",
            "\n",
            "EPOCH: 47\n"
          ],
          "name": "stdout"
        },
        {
          "output_type": "stream",
          "text": [
            "Loss=1.0634821653366089 Batch_id=150 Accuracy=74.52: 100%|██████████| 151/151 [02:12<00:00,  1.14it/s]\n",
            "  0%|          | 0/151 [00:00<?, ?it/s]"
          ],
          "name": "stderr"
        },
        {
          "output_type": "stream",
          "text": [
            "\n",
            "Test set: Average loss: 1.8034, Accuracy: 18519/33000 (56.12%)\n",
            "\n",
            "EPOCH: 48\n"
          ],
          "name": "stdout"
        },
        {
          "output_type": "stream",
          "text": [
            "Loss=1.060758113861084 Batch_id=150 Accuracy=74.48: 100%|██████████| 151/151 [02:12<00:00,  1.14it/s]\n",
            "  0%|          | 0/151 [00:00<?, ?it/s]"
          ],
          "name": "stderr"
        },
        {
          "output_type": "stream",
          "text": [
            "\n",
            "Test set: Average loss: 1.8019, Accuracy: 18555/33000 (56.23%)\n",
            "\n",
            "EPOCH: 49\n"
          ],
          "name": "stdout"
        },
        {
          "output_type": "stream",
          "text": [
            "Loss=1.0093532800674438 Batch_id=150 Accuracy=74.71: 100%|██████████| 151/151 [02:12<00:00,  1.14it/s]\n",
            "  0%|          | 0/151 [00:00<?, ?it/s]"
          ],
          "name": "stderr"
        },
        {
          "output_type": "stream",
          "text": [
            "\n",
            "Test set: Average loss: 1.8025, Accuracy: 18547/33000 (56.20%)\n",
            "\n",
            "EPOCH: 50\n"
          ],
          "name": "stdout"
        },
        {
          "output_type": "stream",
          "text": [
            "Loss=1.2044765949249268 Batch_id=150 Accuracy=74.71: 100%|██████████| 151/151 [02:12<00:00,  1.14it/s]\n"
          ],
          "name": "stderr"
        },
        {
          "output_type": "stream",
          "text": [
            "\n",
            "Test set: Average loss: 1.8030, Accuracy: 18534/33000 (56.16%)\n",
            "\n"
          ],
          "name": "stdout"
        }
      ]
    },
    {
      "cell_type": "code",
      "metadata": {
        "id": "_NmXSzcGrRtz",
        "colab_type": "code",
        "colab": {
          "base_uri": "https://localhost:8080/",
          "height": 597
        },
        "outputId": "bfeb1142-7e4f-4109-e5e8-b5457f2de17b"
      },
      "source": [
        "plot_logs(logs)"
      ],
      "execution_count": 25,
      "outputs": [
        {
          "output_type": "display_data",
          "data": {
            "image/png": "[encoded data removed]",
            "text/plain": [
              "<Figure size 1080x720 with 4 Axes>"
            ]
          },
          "metadata": {
            "tags": [],
            "needs_background": "light"
          }
        }
      ]
    }
  ]
}